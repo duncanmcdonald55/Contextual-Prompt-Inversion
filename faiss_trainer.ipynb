{
 "cells": [
  {
   "cell_type": "code",
   "execution_count": 1,
   "id": "9c994e9e",
   "metadata": {},
   "outputs": [
    {
     "name": "stdout",
     "output_type": "stream",
     "text": [
      "Defaulting to user installation because normal site-packages is not writeable\n",
      "Requirement already satisfied: faiss-cpu in c:\\users\\dmcd0888\\appdata\\roaming\\python\\python310\\site-packages (1.12.0)\n",
      "Requirement already satisfied: packaging in c:\\users\\dmcd0888\\appdata\\roaming\\python\\python310\\site-packages (from faiss-cpu) (25.0)\n",
      "Requirement already satisfied: numpy<3.0,>=1.25.0 in c:\\users\\dmcd0888\\appdata\\roaming\\python\\python310\\site-packages (from faiss-cpu) (2.1.2)\n",
      "Note: you may need to restart the kernel to use updated packages.\n"
     ]
    },
    {
     "name": "stderr",
     "output_type": "stream",
     "text": [
      "\n",
      "[notice] A new release of pip is available: 23.0.1 -> 25.2\n",
      "[notice] To update, run: python.exe -m pip install --upgrade pip\n"
     ]
    }
   ],
   "source": [
    "pip install faiss-cpu"
   ]
  },
  {
   "cell_type": "code",
   "execution_count": 2,
   "id": "f2f07155",
   "metadata": {},
   "outputs": [
    {
     "name": "stdout",
     "output_type": "stream",
     "text": [
      "Defaulting to user installation because normal site-packages is not writeable\n",
      "Requirement already satisfied: openpyxl in c:\\users\\dmcd0888\\appdata\\roaming\\python\\python310\\site-packages (3.1.5)\n",
      "Requirement already satisfied: et-xmlfile in c:\\users\\dmcd0888\\appdata\\roaming\\python\\python310\\site-packages (from openpyxl) (2.0.0)\n",
      "Note: you may need to restart the kernel to use updated packages.\n"
     ]
    },
    {
     "name": "stderr",
     "output_type": "stream",
     "text": [
      "\n",
      "[notice] A new release of pip is available: 23.0.1 -> 25.2\n",
      "[notice] To update, run: python.exe -m pip install --upgrade pip\n"
     ]
    }
   ],
   "source": [
    "pip install openpyxl"
   ]
  },
  {
   "cell_type": "code",
   "execution_count": 3,
   "id": "4088f0d3",
   "metadata": {},
   "outputs": [],
   "source": [
    "import re\n",
    "import os\n",
    "import numpy as np\n",
    "import pandas as pd\n",
    "import faiss\n",
    "import openpyxl"
   ]
  },
  {
   "cell_type": "code",
   "execution_count": 4,
   "id": "a3c397d2",
   "metadata": {},
   "outputs": [],
   "source": [
    "content = pd.read_excel(\"faiss_terms/content.xlsx\")"
   ]
  },
  {
   "cell_type": "code",
   "execution_count": 5,
   "id": "4e1f621b",
   "metadata": {},
   "outputs": [
    {
     "data": {
      "text/html": [
       "<div>\n",
       "<style scoped>\n",
       "    .dataframe tbody tr th:only-of-type {\n",
       "        vertical-align: middle;\n",
       "    }\n",
       "\n",
       "    .dataframe tbody tr th {\n",
       "        vertical-align: top;\n",
       "    }\n",
       "\n",
       "    .dataframe thead th {\n",
       "        text-align: right;\n",
       "    }\n",
       "</style>\n",
       "<table border=\"1\" class=\"dataframe\">\n",
       "  <thead>\n",
       "    <tr style=\"text-align: right;\">\n",
       "      <th></th>\n",
       "      <th>item</th>\n",
       "      <th>embedding</th>\n",
       "    </tr>\n",
       "  </thead>\n",
       "  <tbody>\n",
       "    <tr>\n",
       "      <th>3017</th>\n",
       "      <td>gutenberg bible</td>\n",
       "      <td>[ 2.33509322e-03  4.54344414e-02  1.25965197e-...</td>\n",
       "    </tr>\n",
       "    <tr>\n",
       "      <th>3018</th>\n",
       "      <td>shrunken head</td>\n",
       "      <td>[ 1.99726652e-02 -6.52201176e-02 -2.89458558e-...</td>\n",
       "    </tr>\n",
       "    <tr>\n",
       "      <th>3019</th>\n",
       "      <td>canopic jar</td>\n",
       "      <td>[ 5.88798299e-02 -8.60870350e-03 -1.21568469e-...</td>\n",
       "    </tr>\n",
       "    <tr>\n",
       "      <th>3020</th>\n",
       "      <td>ushabti figurin</td>\n",
       "      <td>[ 7.17326952e-03 -1.16594331e-02 -2.85282396e-...</td>\n",
       "    </tr>\n",
       "    <tr>\n",
       "      <th>3021</th>\n",
       "      <td>Struggle</td>\n",
       "      <td>[ 2.41651442e-02  1.04914837e-01 -1.30357482e-...</td>\n",
       "    </tr>\n",
       "  </tbody>\n",
       "</table>\n",
       "</div>"
      ],
      "text/plain": [
       "                 item                                          embedding\n",
       "3017  gutenberg bible  [ 2.33509322e-03  4.54344414e-02  1.25965197e-...\n",
       "3018    shrunken head  [ 1.99726652e-02 -6.52201176e-02 -2.89458558e-...\n",
       "3019      canopic jar  [ 5.88798299e-02 -8.60870350e-03 -1.21568469e-...\n",
       "3020  ushabti figurin  [ 7.17326952e-03 -1.16594331e-02 -2.85282396e-...\n",
       "3021         Struggle  [ 2.41651442e-02  1.04914837e-01 -1.30357482e-..."
      ]
     },
     "execution_count": 5,
     "metadata": {},
     "output_type": "execute_result"
    }
   ],
   "source": [
    "content.tail()"
   ]
  },
  {
   "cell_type": "code",
   "execution_count": 6,
   "id": "87ac88a8",
   "metadata": {},
   "outputs": [],
   "source": [
    "def string_parser(s: str):\n",
    "\n",
    "    cleaned_s = s.strip().replace(\"]\",'').replace(\"[\",'')\n",
    "\n",
    "    return [float(item) for item in re.split(r'\\s+', cleaned_s) if item]"
   ]
  },
  {
   "cell_type": "code",
   "execution_count": 7,
   "id": "17b5e8b9",
   "metadata": {},
   "outputs": [],
   "source": [
    "content_embeddings = content[\"embedding\"].apply(string_parser).to_list()"
   ]
  },
  {
   "cell_type": "code",
   "execution_count": 8,
   "id": "b8a47d64",
   "metadata": {},
   "outputs": [
    {
     "data": {
      "text/plain": [
       "list"
      ]
     },
     "execution_count": 8,
     "metadata": {},
     "output_type": "execute_result"
    }
   ],
   "source": [
    "type(content_embeddings)"
   ]
  },
  {
   "cell_type": "code",
   "execution_count": 9,
   "id": "d332b6a5",
   "metadata": {},
   "outputs": [
    {
     "name": "stdout",
     "output_type": "stream",
     "text": [
      "<class 'float'>\n"
     ]
    }
   ],
   "source": [
    "print(type(content_embeddings[0][0]))"
   ]
  },
  {
   "cell_type": "code",
   "execution_count": 10,
   "id": "a1cbd71f",
   "metadata": {},
   "outputs": [],
   "source": [
    "arr2d = np.array(content_embeddings, dtype=np.float32)"
   ]
  },
  {
   "cell_type": "code",
   "execution_count": 11,
   "id": "69d2ee52",
   "metadata": {},
   "outputs": [],
   "source": [
    "num_embeddings, embedding_dim = arr2d.shape"
   ]
  },
  {
   "cell_type": "code",
   "execution_count": 12,
   "id": "dcd70438",
   "metadata": {},
   "outputs": [
    {
     "data": {
      "text/plain": [
       "(3022, 768)"
      ]
     },
     "execution_count": 12,
     "metadata": {},
     "output_type": "execute_result"
    }
   ],
   "source": [
    "arr2d.shape"
   ]
  },
  {
   "cell_type": "code",
   "execution_count": 13,
   "id": "cb1a0786",
   "metadata": {},
   "outputs": [
    {
     "data": {
      "text/plain": [
       "3022"
      ]
     },
     "execution_count": 13,
     "metadata": {},
     "output_type": "execute_result"
    }
   ],
   "source": [
    "num_embeddings"
   ]
  },
  {
   "cell_type": "code",
   "execution_count": 14,
   "id": "9707e64f",
   "metadata": {},
   "outputs": [],
   "source": [
    "content_k = int(4 * np.sqrt(num_embeddings))"
   ]
  },
  {
   "cell_type": "code",
   "execution_count": 15,
   "id": "99c45873",
   "metadata": {},
   "outputs": [
    {
     "data": {
      "text/plain": [
       "219"
      ]
     },
     "execution_count": 15,
     "metadata": {},
     "output_type": "execute_result"
    }
   ],
   "source": [
    "content_k"
   ]
  },
  {
   "cell_type": "code",
   "execution_count": 16,
   "id": "4cab047e",
   "metadata": {},
   "outputs": [],
   "source": [
    "quantizer = faiss.IndexFlatL2(embedding_dim)\n",
    "index = faiss.IndexIVFFlat(quantizer, embedding_dim, content_k)"
   ]
  },
  {
   "cell_type": "code",
   "execution_count": 17,
   "id": "6a5e413b",
   "metadata": {},
   "outputs": [],
   "source": [
    "index.train(arr2d)"
   ]
  },
  {
   "cell_type": "code",
   "execution_count": 18,
   "id": "d37adff1",
   "metadata": {},
   "outputs": [],
   "source": [
    "index.make_direct_map()"
   ]
  },
  {
   "cell_type": "code",
   "execution_count": 19,
   "id": "6a4e6baa",
   "metadata": {},
   "outputs": [],
   "source": [
    "index.add(arr2d)"
   ]
  },
  {
   "cell_type": "code",
   "execution_count": 20,
   "id": "bae7c9f8",
   "metadata": {},
   "outputs": [],
   "source": [
    "faiss.write_index(index, \"content.index\")"
   ]
  },
  {
   "cell_type": "code",
   "execution_count": 24,
   "id": "88780f7c",
   "metadata": {},
   "outputs": [],
   "source": [
    "## Style ##"
   ]
  },
  {
   "cell_type": "code",
   "execution_count": 25,
   "id": "15b8a047",
   "metadata": {},
   "outputs": [],
   "source": [
    "style = pd.read_excel(\"faiss_terms/stylistic.xlsx\")"
   ]
  },
  {
   "cell_type": "code",
   "execution_count": 26,
   "id": "0b5b7f80",
   "metadata": {},
   "outputs": [
    {
     "data": {
      "text/html": [
       "<div>\n",
       "<style scoped>\n",
       "    .dataframe tbody tr th:only-of-type {\n",
       "        vertical-align: middle;\n",
       "    }\n",
       "\n",
       "    .dataframe tbody tr th {\n",
       "        vertical-align: top;\n",
       "    }\n",
       "\n",
       "    .dataframe thead th {\n",
       "        text-align: right;\n",
       "    }\n",
       "</style>\n",
       "<table border=\"1\" class=\"dataframe\">\n",
       "  <thead>\n",
       "    <tr style=\"text-align: right;\">\n",
       "      <th></th>\n",
       "      <th>item</th>\n",
       "      <th>embedding</th>\n",
       "    </tr>\n",
       "  </thead>\n",
       "  <tbody>\n",
       "    <tr>\n",
       "      <th>0</th>\n",
       "      <td>Abstract Expressionism</td>\n",
       "      <td>[ 3.58736180e-02  7.82950595e-02 -4.45399210e-...</td>\n",
       "    </tr>\n",
       "    <tr>\n",
       "      <th>1</th>\n",
       "      <td>Academic Art</td>\n",
       "      <td>[ 4.31802236e-02  6.17554598e-02 -2.78073996e-...</td>\n",
       "    </tr>\n",
       "    <tr>\n",
       "      <th>2</th>\n",
       "      <td>Action Painting</td>\n",
       "      <td>[-2.92749703e-02 -3.50885317e-02 -4.37009288e-...</td>\n",
       "    </tr>\n",
       "    <tr>\n",
       "      <th>3</th>\n",
       "      <td>Aestheticism</td>\n",
       "      <td>[ 1.37087433e-02  8.78865868e-02 -2.62958333e-...</td>\n",
       "    </tr>\n",
       "    <tr>\n",
       "      <th>4</th>\n",
       "      <td>Afrofuturism</td>\n",
       "      <td>[ 2.83689480e-02  4.59528118e-02  5.46957506e-...</td>\n",
       "    </tr>\n",
       "  </tbody>\n",
       "</table>\n",
       "</div>"
      ],
      "text/plain": [
       "                     item                                          embedding\n",
       "0  Abstract Expressionism  [ 3.58736180e-02  7.82950595e-02 -4.45399210e-...\n",
       "1            Academic Art  [ 4.31802236e-02  6.17554598e-02 -2.78073996e-...\n",
       "2         Action Painting  [-2.92749703e-02 -3.50885317e-02 -4.37009288e-...\n",
       "3            Aestheticism  [ 1.37087433e-02  8.78865868e-02 -2.62958333e-...\n",
       "4            Afrofuturism  [ 2.83689480e-02  4.59528118e-02  5.46957506e-..."
      ]
     },
     "execution_count": 26,
     "metadata": {},
     "output_type": "execute_result"
    }
   ],
   "source": [
    "style.head()"
   ]
  },
  {
   "cell_type": "code",
   "execution_count": 27,
   "id": "09add556",
   "metadata": {},
   "outputs": [],
   "source": [
    "style_embeddings = style[\"embedding\"].apply(string_parser).to_list()"
   ]
  },
  {
   "cell_type": "code",
   "execution_count": 28,
   "id": "088a78e3",
   "metadata": {},
   "outputs": [],
   "source": [
    "style_np = np.array(style_embeddings, dtype=np.float32)"
   ]
  },
  {
   "cell_type": "code",
   "execution_count": 29,
   "id": "6ba0aa28",
   "metadata": {},
   "outputs": [],
   "source": [
    "num_style_embeddings, style_embeddings_ndim = style_np.shape"
   ]
  },
  {
   "cell_type": "code",
   "execution_count": 30,
   "id": "618147af",
   "metadata": {},
   "outputs": [
    {
     "data": {
      "text/plain": [
       "768"
      ]
     },
     "execution_count": 30,
     "metadata": {},
     "output_type": "execute_result"
    }
   ],
   "source": [
    "style_embeddings_ndim"
   ]
  },
  {
   "cell_type": "code",
   "execution_count": 31,
   "id": "1d17727c",
   "metadata": {},
   "outputs": [],
   "source": [
    "style_k = int(4 * np.sqrt(num_style_embeddings))"
   ]
  },
  {
   "cell_type": "code",
   "execution_count": 32,
   "id": "5b5393fb",
   "metadata": {},
   "outputs": [
    {
     "data": {
      "text/plain": [
       "137"
      ]
     },
     "execution_count": 32,
     "metadata": {},
     "output_type": "execute_result"
    }
   ],
   "source": [
    "style_k"
   ]
  },
  {
   "cell_type": "code",
   "execution_count": 33,
   "id": "ab6f4b1c",
   "metadata": {},
   "outputs": [],
   "source": [
    "quantizer = faiss.IndexFlatL2(style_embeddings_ndim)\n",
    "style_index = faiss.IndexIVFFlat(quantizer, style_embeddings_ndim, style_k)"
   ]
  },
  {
   "cell_type": "code",
   "execution_count": 34,
   "id": "0af174b6",
   "metadata": {},
   "outputs": [],
   "source": [
    "style_index.train(style_np)"
   ]
  },
  {
   "cell_type": "code",
   "execution_count": 35,
   "id": "175dbeaf",
   "metadata": {},
   "outputs": [],
   "source": [
    "style_index.make_direct_map()"
   ]
  },
  {
   "cell_type": "code",
   "execution_count": 36,
   "id": "b7f485bf",
   "metadata": {},
   "outputs": [],
   "source": [
    "style_index.add(style_np)"
   ]
  },
  {
   "cell_type": "code",
   "execution_count": 37,
   "id": "673d66e1",
   "metadata": {},
   "outputs": [],
   "source": [
    "faiss.write_index(style_index, \"style.index\")"
   ]
  },
  {
   "cell_type": "code",
   "execution_count": null,
   "id": "2fa418e9",
   "metadata": {},
   "outputs": [],
   "source": []
  },
  {
   "cell_type": "code",
   "execution_count": 38,
   "id": "09c51347",
   "metadata": {},
   "outputs": [],
   "source": [
    "execs = pd.read_excel(\"faiss_terms/execution.xlsx\")"
   ]
  },
  {
   "cell_type": "code",
   "execution_count": 39,
   "id": "64f7c6f4",
   "metadata": {},
   "outputs": [
    {
     "data": {
      "text/html": [
       "<div>\n",
       "<style scoped>\n",
       "    .dataframe tbody tr th:only-of-type {\n",
       "        vertical-align: middle;\n",
       "    }\n",
       "\n",
       "    .dataframe tbody tr th {\n",
       "        vertical-align: top;\n",
       "    }\n",
       "\n",
       "    .dataframe thead th {\n",
       "        text-align: right;\n",
       "    }\n",
       "</style>\n",
       "<table border=\"1\" class=\"dataframe\">\n",
       "  <thead>\n",
       "    <tr style=\"text-align: right;\">\n",
       "      <th></th>\n",
       "      <th>item</th>\n",
       "      <th>embedding</th>\n",
       "    </tr>\n",
       "  </thead>\n",
       "  <tbody>\n",
       "    <tr>\n",
       "      <th>0</th>\n",
       "      <td>golden hour</td>\n",
       "      <td>[-2.09865365e-02  4.55007004e-03  1.06995488e-...</td>\n",
       "    </tr>\n",
       "    <tr>\n",
       "      <th>1</th>\n",
       "      <td>blue hour</td>\n",
       "      <td>[-2.56597456e-02 -4.76618074e-02  8.15100037e-...</td>\n",
       "    </tr>\n",
       "    <tr>\n",
       "      <th>2</th>\n",
       "      <td>magic hour</td>\n",
       "      <td>[-1.46740312e-02 -2.49671601e-02 -5.43604186e-...</td>\n",
       "    </tr>\n",
       "    <tr>\n",
       "      <th>3</th>\n",
       "      <td>sunrise</td>\n",
       "      <td>[-2.81988289e-02  9.31332782e-02 -1.80892125e-...</td>\n",
       "    </tr>\n",
       "    <tr>\n",
       "      <th>4</th>\n",
       "      <td>sunset</td>\n",
       "      <td>[-2.87785847e-02  4.08789963e-02 -1.06120417e-...</td>\n",
       "    </tr>\n",
       "  </tbody>\n",
       "</table>\n",
       "</div>"
      ],
      "text/plain": [
       "           item                                          embedding\n",
       "0   golden hour  [-2.09865365e-02  4.55007004e-03  1.06995488e-...\n",
       "1     blue hour  [-2.56597456e-02 -4.76618074e-02  8.15100037e-...\n",
       "2    magic hour  [-1.46740312e-02 -2.49671601e-02 -5.43604186e-...\n",
       "3       sunrise  [-2.81988289e-02  9.31332782e-02 -1.80892125e-...\n",
       "4        sunset  [-2.87785847e-02  4.08789963e-02 -1.06120417e-..."
      ]
     },
     "execution_count": 39,
     "metadata": {},
     "output_type": "execute_result"
    }
   ],
   "source": [
    "execs.head()"
   ]
  },
  {
   "cell_type": "code",
   "execution_count": null,
   "id": "ca1f2a60",
   "metadata": {},
   "outputs": [],
   "source": []
  },
  {
   "cell_type": "code",
   "execution_count": 40,
   "id": "cae63202",
   "metadata": {},
   "outputs": [],
   "source": [
    "execs_embeddings = execs[\"embedding\"].apply(string_parser).to_list()"
   ]
  },
  {
   "cell_type": "code",
   "execution_count": 41,
   "id": "be9d576a",
   "metadata": {},
   "outputs": [],
   "source": [
    "execs_np = np.array(execs_embeddings, dtype=np.float32)"
   ]
  },
  {
   "cell_type": "code",
   "execution_count": 42,
   "id": "718fd469",
   "metadata": {},
   "outputs": [],
   "source": [
    "num_execs, execs_dim = execs_np.shape"
   ]
  },
  {
   "cell_type": "code",
   "execution_count": 43,
   "id": "b98388f7",
   "metadata": {},
   "outputs": [],
   "source": [
    "exec_k = int(4 * np.sqrt(num_execs))"
   ]
  },
  {
   "cell_type": "code",
   "execution_count": 44,
   "id": "183f4ede",
   "metadata": {},
   "outputs": [],
   "source": [
    "quantizer = faiss.IndexFlatL2(execs_dim)\n",
    "exec_index = faiss.IndexIVFFlat(quantizer, execs_dim, exec_k)"
   ]
  },
  {
   "cell_type": "code",
   "execution_count": 45,
   "id": "298afe42",
   "metadata": {},
   "outputs": [],
   "source": [
    "exec_index.train(execs_np)"
   ]
  },
  {
   "cell_type": "code",
   "execution_count": 46,
   "id": "782ce13a",
   "metadata": {},
   "outputs": [],
   "source": [
    "exec_index.make_direct_map()"
   ]
  },
  {
   "cell_type": "code",
   "execution_count": 47,
   "id": "b2a7c411",
   "metadata": {},
   "outputs": [],
   "source": [
    "exec_index.add(execs_np)"
   ]
  },
  {
   "cell_type": "code",
   "execution_count": 48,
   "id": "482a272b",
   "metadata": {},
   "outputs": [],
   "source": [
    "faiss.write_index(exec_index, \"execution.index\")"
   ]
  },
  {
   "cell_type": "code",
   "execution_count": null,
   "id": "037d2636",
   "metadata": {},
   "outputs": [],
   "source": []
  },
  {
   "cell_type": "code",
   "execution_count": null,
   "id": "5f66eeee",
   "metadata": {},
   "outputs": [],
   "source": []
  }
 ],
 "metadata": {
  "kernelspec": {
   "display_name": "Python 3",
   "language": "python",
   "name": "python3"
  },
  "language_info": {
   "codemirror_mode": {
    "name": "ipython",
    "version": 3
   },
   "file_extension": ".py",
   "mimetype": "text/x-python",
   "name": "python",
   "nbconvert_exporter": "python",
   "pygments_lexer": "ipython3",
   "version": "3.10.11"
  }
 },
 "nbformat": 4,
 "nbformat_minor": 5
}
