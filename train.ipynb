{
 "cells": [
  {
   "cell_type": "code",
   "execution_count": 1,
   "id": "ac31eb97",
   "metadata": {},
   "outputs": [],
   "source": [
    "import re\n",
    "from sklearn.model_selection import train_test_split\n",
    "import pandas as pd\n",
    "import torch\n",
    "from torch.utils.data import Dataset, DataLoader\n",
    "import torch.nn as nn\n",
    "import numpy as np\n",
    "from tqdm import tqdm"
   ]
  },
  {
   "cell_type": "code",
   "execution_count": 2,
   "id": "49b05021",
   "metadata": {},
   "outputs": [],
   "source": [
    "df = pd.read_csv(\"master_final.csv\", index_col = 0)"
   ]
  },
  {
   "cell_type": "code",
   "execution_count": 3,
   "id": "b4fe66b5",
   "metadata": {},
   "outputs": [],
   "source": [
    "def string_parser(s: str):\n",
    "\n",
    "    cleaned_s = s.strip().replace(\"]\",'').replace(\"[\",'')\n",
    "\n",
    "    return [float(item) for item in re.split(r'\\s+', cleaned_s) if item]"
   ]
  },
  {
   "cell_type": "code",
   "execution_count": 4,
   "id": "886ce934",
   "metadata": {},
   "outputs": [],
   "source": [
    "X = df[\"contextual_meta_embedding\"].apply(string_parser).to_list()\n",
    "y_exec = df[\"exec_embedding\"].apply(string_parser).to_list()\n",
    "y_style = df[\"style_embedding\"].apply(string_parser).to_list()\n",
    "y_content = df[\"content_embedding\"].apply(string_parser).to_list()"
   ]
  },
  {
   "cell_type": "code",
   "execution_count": 5,
   "id": "5781a9c6",
   "metadata": {},
   "outputs": [],
   "source": [
    "(X_train_val, X_test, \n",
    " y_content_train_val, y_content_test, \n",
    " y_exec_train_val, y_exec_test, \n",
    " y_style_train_val, y_style_test) = train_test_split(\n",
    "    X, y_content, y_exec, y_style, \n",
    "    test_size=0.1, \n",
    "    random_state=42\n",
    ")"
   ]
  },
  {
   "cell_type": "code",
   "execution_count": 7,
   "id": "4ead3074",
   "metadata": {},
   "outputs": [],
   "source": [
    "(X_train, X_val,\n",
    " y_content_train, y_content_val,\n",
    " y_exec_train, y_exec_val,\n",
    " y_style_train, y_style_val) = train_test_split(\n",
    "    X_train_val, y_content_train_val, y_exec_train_val, y_style_train_val,\n",
    "    test_size=1/9, \n",
    "    random_state=42\n",
    ")"
   ]
  },
  {
   "cell_type": "code",
   "execution_count": 8,
   "id": "5cdd5bbb",
   "metadata": {},
   "outputs": [],
   "source": [
    "class PromptDataset(Dataset):\n",
    "\n",
    "    def __init__(self, context_embeds, content_labels, exec_labels, style_labels):\n",
    "        self.context_embeds = torch.tensor(context_embeds, dtype = torch.float32)\n",
    "        self.content_labels = torch.tensor(content_labels, dtype = torch.float32)\n",
    "        self.exec_labels = torch.tensor(exec_labels, dtype=torch.float32)\n",
    "        self.style_labels = torch.tensor(style_labels, dtype=torch.float32)\n",
    "\n",
    "    def __len__(self):\n",
    "        return len(self.context_embeds)\n",
    "\n",
    "    def __getitem__(self, idx):\n",
    "        return (self.context_embeds[idx], self.content_labels[idx], self.exec_labels[idx], self.style_labels[idx])"
   ]
  },
  {
   "cell_type": "code",
   "execution_count": 9,
   "id": "fcdf1a52",
   "metadata": {},
   "outputs": [],
   "source": [
    "train_dataset = PromptDataset(X_train, y_content_train, y_exec_train, y_style_train)\n",
    "val_dataset = PromptDataset(X_val, y_content_val, y_exec_val, y_style_val)\n",
    "test_dataset = PromptDataset(X_test, y_content_test, y_exec_test, y_style_test)"
   ]
  },
  {
   "cell_type": "code",
   "execution_count": 11,
   "id": "6ef714bd",
   "metadata": {},
   "outputs": [],
   "source": [
    "BATCH_SIZE = 32\n",
    "train_loader = DataLoader(train_dataset, batch_size = BATCH_SIZE, shuffle = True)\n",
    "val_loader = DataLoader(val_dataset, batch_size = BATCH_SIZE)\n",
    "test_loader = DataLoader(test_dataset, batch_size = BATCH_SIZE)"
   ]
  },
  {
   "cell_type": "code",
   "execution_count": 12,
   "id": "c5adb22f",
   "metadata": {},
   "outputs": [],
   "source": [
    "class PromptDecomposerMLP(nn.Module):\n",
    "    def __init__(self, input_size, shared_hidden_size, output_embedding_size, dropout_rate = 0.3):\n",
    "        super(PromptDecomposerMLP, self).__init__()\n",
    "        self.shared_trunk = nn.Sequential(\n",
    "            nn.Linear(input_size, shared_hidden_size),\n",
    "            nn.ReLU(),\n",
    "            nn.Dropout(dropout_rate),\n",
    "            nn.Linear(shared_hidden_size, shared_hidden_size // 2),\n",
    "            nn.ReLU(),\n",
    "            nn.Dropout(dropout_rate)\n",
    "        )\n",
    "        self.content_head = nn.Linear(shared_hidden_size // 2, output_embedding_size)\n",
    "        self.execution_head = nn.Linear(shared_hidden_size // 2, output_embedding_size)\n",
    "        self.style_head = nn.Linear(shared_hidden_size // 2, output_embedding_size)\n",
    "\n",
    "    def forward(self, x):\n",
    "        shared_features = self.shared_trunk(x)\n",
    "        content_out = self.content_head(shared_features)\n",
    "        exec_out = self.execution_head(shared_features)\n",
    "        style_out = self.style_head(shared_features)\n",
    "        return content_out, exec_out, style_out"
   ]
  },
  {
   "cell_type": "code",
   "execution_count": 13,
   "id": "f2bb73b8",
   "metadata": {},
   "outputs": [],
   "source": [
    "INPUT_EMBEDDING_SIZE = 768\n",
    "OUTPUT_EMBEDDING_SIZE = 768\n",
    "SHARED_HIDDEN_SIZE = 1024\n",
    "LEARNING_RATE = 1e-4\n",
    "NUM_EPOCHS = 50\n",
    "\n",
    "device = \"cuda\" if torch.cuda.is_available() else \"cpu\"\n",
    "model = PromptDecomposerMLP(INPUT_EMBEDDING_SIZE, SHARED_HIDDEN_SIZE, OUTPUT_EMBEDDING_SIZE).to(device)\n",
    "loss_fn = nn.CosineEmbeddingLoss()\n",
    "optimizer = torch.optim.AdamW(model.parameters(), lr = LEARNING_RATE)"
   ]
  },
  {
   "cell_type": "code",
   "execution_count": null,
   "id": "f25f343c",
   "metadata": {},
   "outputs": [],
   "source": []
  }
 ],
 "metadata": {
  "kernelspec": {
   "display_name": "Python 3",
   "language": "python",
   "name": "python3"
  },
  "language_info": {
   "codemirror_mode": {
    "name": "ipython",
    "version": 3
   },
   "file_extension": ".py",
   "mimetype": "text/x-python",
   "name": "python",
   "nbconvert_exporter": "python",
   "pygments_lexer": "ipython3",
   "version": "3.10.11"
  }
 },
 "nbformat": 4,
 "nbformat_minor": 5
}
